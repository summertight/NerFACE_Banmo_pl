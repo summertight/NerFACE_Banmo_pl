{
 "cells": [
  {
   "cell_type": "code",
   "execution_count": 12,
   "id": "08c3987c-ce67-48ac-8180-78d4dab00a11",
   "metadata": {},
   "outputs": [],
   "source": [
    "\n",
    "\n",
    "import glob,os\n",
    "import cv2\n",
    "\n",
    "#image_folder = '/data/private/Projects/dataset/WWZRPTh-irU#004992#005154'\n",
    "image_folder = './test_now'\n",
    "video_name = 'video.avi'\n",
    "\n",
    "images = sorted([img for img in os.listdir(image_folder) if img.endswith(\".png\")])\n",
    "frame = cv2.imread(os.path.join(image_folder, images[0]))\n",
    "height, width, layers = frame.shape\n",
    "\n",
    "video = cv2.VideoWriter(video_name, 0, 25, (width,height))\n",
    "\n",
    "for image in images:\n",
    "    video.write(cv2.imread(os.path.join(image_folder, image)))\n",
    "\n",
    "cv2.destroyAllWindows()\n",
    "video.release()"
   ]
  }
 ],
 "metadata": {
  "kernelspec": {
   "display_name": "Python 3 (ipykernel)",
   "language": "python",
   "name": "python3"
  },
  "language_info": {
   "codemirror_mode": {
    "name": "ipython",
    "version": 3
   },
   "file_extension": ".py",
   "mimetype": "text/x-python",
   "name": "python",
   "nbconvert_exporter": "python",
   "pygments_lexer": "ipython3",
   "version": "3.8.8"
  }
 },
 "nbformat": 4,
 "nbformat_minor": 5
}
